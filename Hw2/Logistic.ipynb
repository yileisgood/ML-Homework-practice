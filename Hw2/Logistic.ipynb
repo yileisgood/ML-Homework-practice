{
 "cells": [
  {
   "cell_type": "code",
   "execution_count": 135,
   "metadata": {
    "inputHidden": false,
    "outputHidden": false
   },
   "outputs": [],
   "source": [
    "# import\n",
    "import matplotlib.pyplot as plt\n",
    "import numpy as np\n",
    "import pandas as pd\n",
    "import sys\n",
    "import os"
   ]
  },
  {
   "cell_type": "code",
   "execution_count": 136,
   "metadata": {
    "inputHidden": false,
    "outputHidden": false
   },
   "outputs": [],
   "source": [
    "# load data\n",
    "# X_train_fpath = sys.argv[1]\n",
    "# Y_train_fpath = sys.argv[2]\n",
    "# X_test_fpath = sys.argv[3]\n",
    "# output_fpath = sys.argv[4]\n",
    "\n",
    "X_train_fpath = 'X_train'\n",
    "Y_train_fpath = 'Y_train'\n",
    "X_test_fpath = 'X_test'\n",
    "output_fpath = 'output.csv'\n",
    "\n",
    "X_train = np.genfromtxt(X_train_fpath, delimiter=',', skip_header=1)\n",
    "Y_train = np.genfromtxt(Y_train_fpath, delimiter=',', skip_header=1)\n",
    "X_test = np.genfromtxt(X_test_fpath, delimiter=',', skip_header=1)\n"
   ]
  },
  {
   "cell_type": "code",
   "execution_count": 137,
   "metadata": {
    "inputHidden": false,
    "outputHidden": false
   },
   "outputs": [],
   "source": [
    "# validation and shuffle(for batch)\n",
    "def _shuffle(X, y):\n",
    "    randomize = np.arange(len(X))\n",
    "    np.random.shuffle(randomize)\n",
    "    return X[randomize], y[randomize]\n",
    "def set_validation(X, y, ratio=0.25):\n",
    "    trainlen = int(round(len(X) * (1 - ratio)))\n",
    "    return X[0:trainlen], y[0:trainlen], X[trainlen:None], y[trainlen:None]\n"
   ]
  },
  {
   "cell_type": "code",
   "execution_count": 138,
   "metadata": {
    "inputHidden": false,
    "outputHidden": false
   },
   "outputs": [],
   "source": [
    "# normalization\n",
    "def normalize_0_1(X, train=True, col=None, X_min=None, X_max=None):\n",
    "    if train is True:\n",
    "        if col is None:\n",
    "            col = np.arange(X.shape[1])\n",
    "        X_max = X[:, col].max(0).reshape(1, -1)\n",
    "        X_min = X[:, col].min(0).reshape(1, -1)\n",
    "    X[:, col] = (X[:, col] - X_min) / (X_max - X_min)\n",
    "    return X, X_max, X_min\n",
    "\n",
    "def normalize_normal(X, train=True, col=None, X_mean=None, X_std=None):\n",
    "    if train is True:\n",
    "        if col is None:\n",
    "            col = np.arange(X.shape[1])\n",
    "        X_mean = X[:, col].mean(0).reshape(1, -1)\n",
    "        X_std = X[:, col].std(0).reshape(1, -1)\n",
    "    X[:, col] = (X[:, col] - X_mean) / (X_std)\n",
    "    return X, X_mean, X_std\n",
    "\n",
    "\n",
    "# col = [0, 1, 3, 4, 5, 7, 10, 12, 25, 26, 27, 28]\n",
    "col = np.arange(X_train.shape[1])[X_train.mean(0) > 1]\n",
    "X_train, X_mean, X_std = normalize_normal(X_train, col=col)\n",
    "\n"
   ]
  },
  {
   "cell_type": "code",
   "execution_count": 139,
   "metadata": {
    "inputHidden": false,
    "outputHidden": false
   },
   "outputs": [],
   "source": [
    "# logistic regression\n",
    "def sigmoid(z):\n",
    "    return np.clip(1 / (1 + np.exp(-z)), 1e-6, 1 - 1e-6)\n",
    "def estimate_prob(x, w, b):\n",
    "    return(sigmoid(np.add(np.matmul(x, w), b)))\n",
    "\n",
    "# def estimate_prob(x, w, b):\n",
    "#     return np.round(sigmoid_(np.dot(x, w) + b))\n",
    "\n",
    "# def cross_validation(y_pred, y_true):\n",
    "#     cross_entropy = - y_true.dot(np.log(y_pred)) - (1 - y_true).dot(np.log(1 - y_pred))\n",
    "#     return cross_entropy\n",
    "def cross_validation(y_pred, Y_label):\n",
    "    # compute the cross entropy\n",
    "    cross_entropy = -np.dot(Y_label, np.log(y_pred))-np.dot((1-Y_label), np.log(1-y_pred))\n",
    "    return cross_entropy\n",
    "def gradient(x, y_true, w, b):\n",
    "    y_pred = estimate_prob(x, w, b)\n",
    "    m = len(y_true)\n",
    "    w_grad = -1 / m * ((x.T).dot(y_pred - y_true))\n",
    "    b_grad = - 1 / m * np.sum((y_pred - y_true))\n",
    "    return w_grad, b_grad\n",
    "def _gradient_regularization(X, Y_label, w, b, lamda):\n",
    "    # return the mean of the graident\n",
    "    y_pred = estimate_prob(X, w, b)\n",
    "    pred_error = Y_label - y_pred\n",
    "    w_grad = -np.mean(np.multiply(pred_error.T, X.T), 1) + lamda * w\n",
    "    b_grad = -np.mean(pred_error)\n",
    "    return w_grad, b_grad\n",
    "def regulization_gradient(x, y_true, w, b, lamba):\n",
    "    y_pred = estimate_prob(x, w, b)\n",
    "    m = len(y_true)\n",
    "    w_grad = (-1 / m) * ((x.T).dot((y_true - y_pred))) + lamba * w\n",
    "    b_grad = (- 1 / m) * np.sum(y_true - y_pred)\n",
    "    return w_grad, b_grad\n",
    "def regulization_loss(y_pred, y_true, lamba, w):\n",
    "    return cross_validation(y_pred, y_true) + lamba * np.sum(np.square(w))\n",
    "def accuracy(y_pred, y_true):\n",
    "    acc = np.sum(y_pred == y_true) / len(y_pred)\n",
    "    return acc\n",
    "\n"
   ]
  },
  {
   "cell_type": "code",
   "execution_count": 167,
   "metadata": {
    "inputHidden": false,
    "outputHidden": false
   },
   "outputs": [],
   "source": [
    "# run gradient\n",
    "def run_gradient(x_train, y_train , learning_rate=0.01):\n",
    "    validation_ratio=0.1225\n",
    "    x_train, y_train, x_val, y_val = set_validation(X_train, Y_train, ratio=validation_ratio)\n",
    "    w = np.zeros((x_train.shape[1],))\n",
    "    b = np.zeros((1,))\n",
    "    # r_w = np.zeros((x_train.shape[1],))\n",
    "    # r_b = np.zeros((1,))\n",
    "    regulization = True\n",
    "    if regulization is True:\n",
    "        lamba = 0.00001\n",
    "    else:\n",
    "        lamba = 0\n",
    "\n",
    "    iteration = 50\n",
    "    batch_size = 32\n",
    "    # learning_rate = 0.001\n",
    "    # decay_rate = 0.99\n",
    "    step = 1  # for decay\n",
    "    loss_train = []\n",
    "    loss_val = []\n",
    "    train_acc = []\n",
    "    val_acc = []\n",
    "    # run\n",
    "    for epoch in range(iteration):\n",
    "        x_train, y_train = _shuffle(x_train, y_train)\n",
    "        for id in range(int(np.floor(len(y_train) / batch_size))):\n",
    "            X = x_train[id * batch_size:(id + 1) * batch_size]\n",
    "            Y = y_train[id * batch_size:(id + 1) * batch_size]\n",
    "\n",
    "            w_grad, b_grad = _gradient_regularization(X, Y, w, b, lamba)\n",
    "            w = w - learning_rate / np.sqrt(step) * w_grad\n",
    "            b = b - learning_rate / np.sqrt(step) * b_grad\n",
    "\n",
    "            step = step + 1\n",
    "            # r_w = r_w * decay_rate + ((1 - decay_rate) * np.multiply(w_grad, w_grad))\n",
    "            # r_b = r_b * decay_rate + ((1 - decay_rate) * np.multiply(b_grad, b_grad))\n",
    "            # w = w - ((learning_rate / (np.sqrt(r_w) + 0.0000001)) * w_grad)\n",
    "            # b = b - ((learning_rate / (np.sqrt(r_b) + 0.0000001)) * b_grad)\n",
    "\n",
    "        # loss and acc for each iteration\n",
    "        y_train_pred = estimate_prob(x_train, w, b)\n",
    "        Y_train_pred = np.round(y_train_pred)\n",
    "        train_acc.append(accuracy(Y_train_pred, y_train))\n",
    "        loss_train.append(regulization_loss(y_train_pred, y_train, lamba, w) / len(y_train))\n",
    "\n",
    "        y_val_pred = estimate_prob(x_val, w, b)\n",
    "        Y_val_pred = np.round(y_val_pred)\n",
    "        val_acc.append(accuracy(Y_val_pred, y_val))\n",
    "        loss_val.append(regulization_loss(y_val_pred, y_val, lamba, w) / len(y_val))\n",
    "    return w, b, train_acc, loss_train, val_acc, loss_val\n",
    "\n",
    "\n",
    "w, b, train_acc, loss_train, val_acc, loss_val = run_gradient(X_train, Y_train, learning_rate=0.25)\n"
   ]
  },
  {
   "cell_type": "code",
   "execution_count": 168,
   "metadata": {},
   "outputs": [
    {
     "data": {
      "text/plain": [
       "0.8477530449391012"
      ]
     },
     "execution_count": 168,
     "metadata": {},
     "output_type": "execute_result"
    }
   ],
   "source": [
    "train_acc[-1]\n"
   ]
  },
  {
   "cell_type": "code",
   "execution_count": 169,
   "metadata": {},
   "outputs": [
    {
     "data": {
      "text/plain": [
       "0.83855602907997"
      ]
     },
     "execution_count": 169,
     "metadata": {},
     "output_type": "execute_result"
    }
   ],
   "source": [
    "val_acc[-1]"
   ]
  },
  {
   "cell_type": "code",
   "execution_count": 170,
   "metadata": {
    "inputHidden": false,
    "outputHidden": false
   },
   "outputs": [
    {
     "data": {
      "image/png": "[encoded data removed]",
      "text/plain": [
       "<Figure size 432x288 with 1 Axes>"
      ]
     },
     "metadata": {
      "needs_background": "light"
     },
     "output_type": "display_data"
    },
    {
     "data": {
      "image/png": "[encoded data removed]",
      "text/plain": [
       "<Figure size 432x288 with 1 Axes>"
      ]
     },
     "metadata": {
      "needs_background": "light"
     },
     "output_type": "display_data"
    }
   ],
   "source": [
    "# plot\n",
    "plt.plot(loss_train)\n",
    "plt.plot(loss_val)\n",
    "plt.legend(['train', 'val'])\n",
    "plt.show()\n",
    "\n",
    "plt.plot(train_acc)\n",
    "plt.plot(val_acc)\n",
    "plt.legend(['train', 'val'])\n",
    "\n",
    "plt.show()"
   ]
  },
  {
   "cell_type": "code",
   "execution_count": 171,
   "metadata": {},
   "outputs": [],
   "source": [
    "X_test = np.genfromtxt(X_test_fpath, delimiter=',', skip_header=1)\n",
    "# Do the same data process to the test data\n",
    "x_test, _, _= normalize_normal(X_test, train=False,col = col, X_mean=X_mean, X_std=X_std)\n",
    "result = np.round(estimate_prob(x_test, w, b))\n",
    "with open(output_fpath, 'w') as f:\n",
    "        f.write('id,label\\n')\n",
    "        for i, v in  enumerate(result):\n",
    "            f.write('%d,%d\\n' %(i+1, v))"
   ]
  },
  {
   "cell_type": "code",
   "execution_count": null,
   "metadata": {},
   "outputs": [],
   "source": []
  }
 ],
 "metadata": {
  "kernelspec": {
   "display_name": "Python 3",
   "language": "python",
   "name": "python3"
  },
  "language_info": {
   "codemirror_mode": {
    "name": "ipython",
    "version": 3
   },
   "file_extension": ".py",
   "mimetype": "text/x-python",
   "name": "python",
   "nbconvert_exporter": "python",
   "pygments_lexer": "ipython3",
   "version": "3.6.8"
  }
 },
 "nbformat": 4,
 "nbformat_minor": 1
}

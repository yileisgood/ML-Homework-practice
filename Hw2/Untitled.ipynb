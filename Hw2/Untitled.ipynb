{
 "cells": [
  {
   "cell_type": "code",
   "execution_count": 1,
   "metadata": {},
   "outputs": [],
   "source": [
    "import numpy as np"
   ]
  },
  {
   "cell_type": "code",
   "execution_count": 23,
   "metadata": {},
   "outputs": [],
   "source": [
    "X_train_fpath = 'X_train'\n",
    "Y_train_fpath = 'Y_train'\n",
    "X_test_fpath = 'X_test'\n",
    "output_fpath = 'output.csv'"
   ]
  },
  {
   "cell_type": "code",
   "execution_count": 24,
   "metadata": {},
   "outputs": [],
   "source": [
    "X_train = np.genfromtxt(X_train_fpath, delimiter=',', skip_header=1)\n",
    "Y_train = np.genfromtxt(Y_train_fpath, delimiter=',', skip_header=1)"
   ]
  },
  {
   "cell_type": "code",
   "execution_count": 35,
   "metadata": {},
   "outputs": [],
   "source": [
    "def _normalize_column_0_1(X, train=True, specified_column = None, X_min = None, X_max=None):\n",
    "    # The output of the function will make the specified column of the training data \n",
    "    # from 0 to 1\n",
    "    # When processing testing data, we need to normalize by the value \n",
    "    # we used for processing training, so we must save the max value of the \n",
    "    # training data\n",
    "    if train:\n",
    "        if specified_column == None:\n",
    "            specified_column = np.arange(X.shape[1])\n",
    "        length = len(specified_column)\n",
    "        X_max = np.reshape(np.max(X[:, specified_column], 0), (1, length))\n",
    "        X_min = np.reshape(np.min(X[:, specified_column], 0), (1, length))\n",
    "        \n",
    "    X[:, specified_column] = np.divide(np.subtract(X[:, specified_column], X_min), np.subtract(X_max, X_min))\n",
    "\n",
    "    return X, X_max, X_min"
   ]
  },
  {
   "cell_type": "code",
   "execution_count": 36,
   "metadata": {},
   "outputs": [],
   "source": [
    "def _normalize_column_normal(X, train=True, specified_column = None, X_mean=None, X_std=None):\n",
    "    # The output of the function will make the specified column number to \n",
    "    # become a Normal distribution\n",
    "    # When processing testing data, we need to normalize by the value \n",
    "    # we used for processing training, so we must save the mean value and \n",
    "    # the variance of the training data\n",
    "    if train:\n",
    "        if specified_column == None:\n",
    "            specified_column = np.arange(X.shape[1])\n",
    "        length = len(specified_column)\n",
    "        X_mean = np.reshape(np.mean(X[:, specified_column],0), (1, length))\n",
    "        X_std  = np.reshape(np.std(X[:, specified_column], 0), (1, length))\n",
    "    \n",
    "    X[:,specified_column] = np.divide(np.subtract(X[:,specified_column],X_mean), X_std)\n",
    "     \n",
    "    return X, X_mean, X_std"
   ]
  },
  {
   "cell_type": "code",
   "execution_count": 37,
   "metadata": {},
   "outputs": [],
   "source": [
    "def _shuffle(X, Y):\n",
    "    randomize = np.arange(len(X))\n",
    "    np.random.shuffle(randomize)\n",
    "    return (X[randomize], Y[randomize])\n",
    "    \n",
    "def train_dev_split(X, y, dev_size=0.25):\n",
    "    train_len = int(round(len(X)*(1-dev_size)))\n",
    "    return X[0:train_len], y[0:train_len], X[train_len:None], y[train_len:None]"
   ]
  },
  {
   "cell_type": "code",
   "execution_count": 44,
   "metadata": {},
   "outputs": [],
   "source": [
    " \n",
    "# These are the columns that I want to normalize\n",
    "col = [0,1,3,4,5,7,10,12,25,26,27,28]\n",
    "X_train, X_mean, X_std = _normalize_column_normal(X_train, specified_column=col)"
   ]
  },
  {
   "cell_type": "code",
   "execution_count": 45,
   "metadata": {},
   "outputs": [],
   "source": [
    "# validation and shuffle(for batch)\n",
    "def _shuffle(X, y):\n",
    "    randomize = np.arange(len(X))\n",
    "    np.random.shuffle(randomize)\n",
    "    return X[randomize], y[randomize]\n",
    "def set_validation(X, y, ratio=0.25):\n",
    "    trainlen = int(round(len(X) * (1 - ratio)))\n",
    "    return X[0:trainlen], y[0:trainlen], X[trainlen:None], y[trainlen:None]\n"
   ]
  },
  {
   "cell_type": "code",
   "execution_count": 103,
   "metadata": {},
   "outputs": [],
   "source": [
    "# logistic regression\n",
    "def sigmoid(z):\n",
    "    return np.clip(1 / (1 + np.exp(-z)), 1e-6, 1 - 1e-6)\n",
    "# def estimate_prob(x, w, b):\n",
    "#     return sigmoid(np.add(np.matmul(x, w), b))\n",
    "\n",
    "def estimate_prob(x, w, b):\n",
    "    return (sigmoid(np.dot(x, w) + b))\n",
    "\n",
    "# def cross_validation(y_pred, y_true):\n",
    "#     cross_entropy = - y_true.dot(np.log(y_pred)) - (1 - y_true).dot(np.log(1 - y_pred))\n",
    "#     return cross_entropy\n",
    "def cross_validation(y_pred, Y_label):\n",
    "    # compute the cross entropy\n",
    "    cross_entropy = -np.dot(Y_label, np.log(y_pred))-np.dot((1-Y_label), np.log(1-y_pred))\n",
    "    return cross_entropy\n",
    "def gradient(x, y_true, w, b):\n",
    "    y_pred = estimate_prob(x, w, b)\n",
    "    m = len(y_true)\n",
    "    w_grad = -1 / m * ((x.T).dot(y_pred - y_true))\n",
    "    b_grad = - 1 / m * np.sum((y_pred - y_true))\n",
    "    return w_grad, b_grad\n",
    "def _gradient_regularization(X, Y_label, w, b, lamda):\n",
    "    # return the mean of the graident\n",
    "    y_pred = estimate_prob(X, w, b)\n",
    "    pred_error = Y_label - y_pred\n",
    "    w_grad = -np.mean(np.multiply(pred_error.T, X.T), 1) + lamda * w\n",
    "    b_grad = -np.mean(pred_error)\n",
    "    return w_grad, b_grad\n",
    "def regulization_gradient(x, y_true, w, b, lamba):\n",
    "    y_pred = estimate_prob(x, w, b)\n",
    "    m = len(y_true)\n",
    "    w_grad = (-1 / m) * ((x.T).dot((y_true - y_pred))) + lamba * w\n",
    "    b_grad = (- 1 / m) * np.sum(y_true - y_pred)\n",
    "    return w_grad, b_grad\n",
    "def regulization_loss(y_pred, y_true, lamba, w):\n",
    "    return cross_validation(y_pred, y_true) + lamba * np.sum(np.square(w))\n",
    "def accuracy(y_pred, y_true):\n",
    "    acc = np.sum(y_pred == y_true) / len(y_pred)\n",
    "    return acc\n"
   ]
  },
  {
   "cell_type": "code",
   "execution_count": 104,
   "metadata": {},
   "outputs": [],
   "source": [
    "# run gradient\n",
    "def run_gradient(x_train, y_train , learning_rate=0.01):\n",
    "    validation_ratio=0.1225\n",
    "    x_train, y_train, x_val, y_val = set_validation(X_train, Y_train, ratio=validation_ratio)\n",
    "    w = np.zeros((x_train.shape[1],))\n",
    "    b = np.zeros((1,))\n",
    "    # r_w = np.zeros((x_train.shape[1],))\n",
    "    # r_b = np.zeros((1,))\n",
    "    regulization = True\n",
    "    if regulization is True:\n",
    "        lamba = 0.001\n",
    "    else:\n",
    "        lamba = 0\n",
    "\n",
    "    iteration = 40\n",
    "    batch_size = 32\n",
    "    # learning_rate = 0.001\n",
    "    # decay_rate = 0.99\n",
    "    step = 1  # for decay\n",
    "    loss_train = []\n",
    "    loss_val = []\n",
    "    train_acc = []\n",
    "    val_acc = []\n",
    "    # run\n",
    "    for epoch in range(iteration):\n",
    "        x_train, y_train = _shuffle(x_train, y_train)\n",
    "        for id in range(int(np.floor(len(y_train) / batch_size))):\n",
    "            X = x_train[id * batch_size:(id + 1) * batch_size]\n",
    "            Y = y_train[id * batch_size:(id + 1) * batch_size]\n",
    "\n",
    "            w_grad, b_grad = _gradient_regularization(X, Y, w, b, lamba)\n",
    "            w = w - learning_rate / np.sqrt(step) * w_grad\n",
    "            b = b - learning_rate / np.sqrt(step) * b_grad\n",
    "\n",
    "            step = step + 1\n",
    "            # r_w = r_w * decay_rate + ((1 - decay_rate) * np.multiply(w_grad, w_grad))\n",
    "            # r_b = r_b * decay_rate + ((1 - decay_rate) * np.multiply(b_grad, b_grad))\n",
    "            # w = w - ((learning_rate / (np.sqrt(r_w) + 0.0000001)) * w_grad)\n",
    "            # b = b - ((learning_rate / (np.sqrt(r_b) + 0.0000001)) * b_grad)\n",
    "\n",
    "        # loss and acc for each iteration\n",
    "        y_train_pred = estimate_prob(x_train, w, b)\n",
    "        Y_train_pred = np.round(y_train_pred)\n",
    "        train_acc.append(accuracy(Y_train_pred, y_train))\n",
    "        loss_train.append(regulization_loss(y_train_pred, y_train, lamba, w) / len(y_train))\n",
    "\n",
    "        y_val_pred = estimate_prob(x_val, w, b)\n",
    "        Y_val_pred = np.round(y_val_pred)\n",
    "        val_acc.append(accuracy(Y_val_pred, y_val))\n",
    "        loss_val.append(regulization_loss(y_val_pred, y_val, lamba, w) / len(y_val))\n",
    "    return w, b, train_acc, loss_train, val_acc, loss_val\n",
    "\n",
    "\n",
    "w, b, train_acc, loss_train, val_acc, loss_val = run_gradient(X_train, Y_train, learning_rate=0.2)\n"
   ]
  },
  {
   "cell_type": "code",
   "execution_count": 99,
   "metadata": {},
   "outputs": [],
   "source": [
    "validation_ratio=0.1225\n",
    "learning_rate = 0.15\n",
    "x_train, y_train, x_val, y_val = set_validation(X_train, Y_train, ratio=validation_ratio)\n",
    "w = np.zeros((x_train.shape[1],))\n",
    "b = np.zeros((1,))\n",
    "# r_w = np.zeros((x_train.shape[1],))\n",
    "# r_b = np.zeros((1,))\n",
    "regulization = True\n",
    "if regulization is True:\n",
    "    lamba = 0.001\n",
    "else:\n",
    "    lamba = 0\n",
    "\n",
    "iteration = 40\n",
    "batch_size = 32\n",
    "# learning_rate = 0.001\n",
    "# decay_rate = 0.99\n",
    "step = 1  # for decay\n",
    "loss_train = []\n",
    "loss_val = []\n",
    "train_acc = []\n",
    "val_acc = []\n",
    "# run\n",
    "for epoch in range(iteration):\n",
    "    x_train, y_train = _shuffle(x_train, y_train)\n",
    "    for id in range(int(np.floor(len(y_train) / batch_size))):\n",
    "        X = x_train[id * batch_size:(id + 1) * batch_size]\n",
    "        Y = y_train[id * batch_size:(id + 1) * batch_size]\n",
    "\n",
    "        w_grad, b_grad = _gradient_regularization(X, Y, w, b, lamba)\n",
    "        w = w - learning_rate / np.sqrt(step) * w_grad\n",
    "        b = b - learning_rate / np.sqrt(step) * b_grad\n",
    "\n",
    "        step = step + 1\n",
    "# loss and acc for each iteration\n",
    "    y_train_pred = estimate_prob(x_train, w, b)\n",
    "    Y_train_pred = np.round(y_train_pred)\n",
    "    train_acc.append(accuracy(Y_train_pred, y_train))\n",
    "    loss_train.append(regulization_loss(y_train_pred, y_train, lamba, w) / len(y_train))\n",
    "\n",
    "    y_val_pred = estimate_prob(x_val, w, b)\n",
    "    Y_val_pred = np.round(y_val_pred)\n",
    "    val_acc.append(accuracy(Y_val_pred, y_val))\n",
    "    loss_val.append(regulization_loss(y_val_pred, y_val, lamba, w) / len(y_val))"
   ]
  },
  {
   "cell_type": "code",
   "execution_count": null,
   "metadata": {},
   "outputs": [],
   "source": []
  },
  {
   "cell_type": "code",
   "execution_count": 105,
   "metadata": {},
   "outputs": [
    {
     "data": {
      "image/png": "[encoded data removed]",
      "text/plain": [
       "<Figure size 432x288 with 1 Axes>"
      ]
     },
     "metadata": {
      "needs_background": "light"
     },
     "output_type": "display_data"
    },
    {
     "data": {
      "image/png": "[encoded data removed]",
      "text/plain": [
       "<Figure size 432x288 with 1 Axes>"
      ]
     },
     "metadata": {
      "needs_background": "light"
     },
     "output_type": "display_data"
    }
   ],
   "source": [
    "# plot\n",
    "plt.plot(loss_train)\n",
    "plt.plot(loss_val)\n",
    "plt.legend(['train', 'val'])\n",
    "plt.show()\n",
    "\n",
    "plt.plot(train_acc)\n",
    "plt.plot(val_acc)\n",
    "plt.legend(['train', 'val'])\n",
    "\n",
    "plt.show()"
   ]
  },
  {
   "cell_type": "code",
   "execution_count": 49,
   "metadata": {},
   "outputs": [],
   "source": [
    "def _sigmoid(z):\n",
    "    # sigmoid function can be used to output probability\n",
    "    return np.clip(1 / (1.0 + np.exp(-z)), 1e-6, 1-1e-6)\n",
    "\n",
    "def get_prob(X, w, b):\n",
    "    # the probability to output 1\n",
    "    return _sigmoid(np.add(np.matmul(X, w), b))\n",
    "\n",
    "def infer(X, w, b):\n",
    "    # use round to infer the result\n",
    "    return np.round(get_prob(X, w, b))\n",
    "\n",
    "def _cross_entropy(y_pred, Y_label):\n",
    "    # compute the cross entropy\n",
    "    cross_entropy = -np.dot(Y_label, np.log(y_pred))-np.dot((1-Y_label), np.log(1-y_pred))\n",
    "    return cross_entropy\n",
    "\n",
    "def _gradient(X, Y_label, w, b):\n",
    "    # return the mean of the graident\n",
    "    y_pred = get_prob(X, w, b)\n",
    "    pred_error = Y_label - y_pred\n",
    "    w_grad = -np.mean(np.multiply(pred_error.T, X.T), 1)\n",
    "    b_grad = -np.mean(pred_error)\n",
    "    return w_grad, b_grad\n",
    "\n",
    "def _gradient_regularization(X, Y_label, w, b, lamda):\n",
    "    # return the mean of the graident\n",
    "    y_pred = get_prob(X, w, b)\n",
    "    pred_error = Y_label - y_pred\n",
    "    w_grad = -np.mean(np.multiply(pred_error.T, X.T), 1)+lamda*w\n",
    "    b_grad = -np.mean(pred_error)\n",
    "    return w_grad, b_grad\n",
    "\n",
    "def _loss(y_pred, Y_label, lamda, w):\n",
    "    return _cross_entropy(y_pred, Y_label) + lamda * np.sum(np.square(w))\n",
    "\n",
    "def accuracy(Y_pred, Y_label):\n",
    "    acc = np.sum(Y_pred == Y_label)/len(Y_pred)\n",
    "    return acc"
   ]
  },
  {
   "cell_type": "code",
   "execution_count": 71,
   "metadata": {},
   "outputs": [],
   "source": [
    "def train(X_train, Y_train):\n",
    "    # split a validation set\n",
    "    dev_size = 0.1155\n",
    "    X_train, Y_train, X_dev, Y_dev = train_dev_split(X_train, Y_train, dev_size = dev_size)\n",
    "    \n",
    "    # Use 0 + 0*x1 + 0*x2 + ... for weight initialization\n",
    "    w = np.zeros((X_train.shape[1],)) \n",
    "    b = np.zeros((1,))\n",
    "\n",
    "    regularize = True\n",
    "    if regularize:\n",
    "        lamda = 0.001\n",
    "    else:\n",
    "        lamda = 0\n",
    "    \n",
    "    max_iter = 40  # max iteration number\n",
    "    batch_size = 32 # number to feed in the model for average to avoid bias\n",
    "    learning_rate = 0.2  # how much the model learn for each step\n",
    "    num_train = len(Y_train)\n",
    "    num_dev = len(Y_dev)\n",
    "    step =1\n",
    "\n",
    "    loss_train = []\n",
    "    loss_validation = []\n",
    "    train_acc = []\n",
    "    dev_acc = []\n",
    "    \n",
    "    for epoch in range(max_iter):\n",
    "        # Random shuffle for each epoch\n",
    "        X_train, Y_train = _shuffle(X_train, Y_train)\n",
    "        \n",
    "        total_loss = 0.0\n",
    "        # Logistic regression train with batch\n",
    "        for idx in range(int(np.floor(len(Y_train)/batch_size))):\n",
    "            X = X_train[idx*batch_size:(idx+1)*batch_size]\n",
    "            Y = Y_train[idx*batch_size:(idx+1)*batch_size]\n",
    "            \n",
    "            # Find out the gradient of the loss\n",
    "            w_grad, b_grad = _gradient_regularization(X, Y, w, b, lamda)\n",
    "            \n",
    "            # gradient descent update\n",
    "            # learning rate decay with time\n",
    "            w = w - learning_rate/np.sqrt(step) * w_grad\n",
    "            b = b - learning_rate/np.sqrt(step) * b_grad\n",
    "            \n",
    "            step = step+1\n",
    "            \n",
    "        # Compute the loss and the accuracy of the training set and the validation set\n",
    "        y_train_pred = get_prob(X_train, w, b)\n",
    "        Y_train_pred = np.round(y_train_pred)\n",
    "        train_acc.append(accuracy(Y_train_pred, Y_train))\n",
    "        loss_train.append(_loss(y_train_pred, Y_train, lamda, w)/num_train)\n",
    "        \n",
    "        y_dev_pred = get_prob(X_dev, w, b)\n",
    "        Y_dev_pred = np.round(y_dev_pred)\n",
    "        dev_acc.append(accuracy(Y_dev_pred, Y_dev))\n",
    "        loss_validation.append(_loss(y_dev_pred, Y_dev, lamda, w)/num_dev)\n",
    "    \n",
    "    return w, b, loss_train, loss_validation, train_acc, dev_acc  # return loss for plotting"
   ]
  },
  {
   "cell_type": "code",
   "execution_count": 69,
   "metadata": {},
   "outputs": [
    {
     "name": "stderr",
     "output_type": "stream",
     "text": [
      "/Users/ryan/anaconda3/lib/python3.6/site-packages/ipykernel_launcher.py:15: RuntimeWarning: divide by zero encountered in log\n",
      "  from ipykernel import kernelapp as app\n"
     ]
    },
    {
     "data": {
      "text/plain": [
       "nan"
      ]
     },
     "execution_count": 69,
     "metadata": {},
     "output_type": "execute_result"
    }
   ],
   "source": [
    "_loss(Y_train_pred,Y_train, lamda, w)"
   ]
  },
  {
   "cell_type": "code",
   "execution_count": 80,
   "metadata": {},
   "outputs": [],
   "source": [
    "# split a validation set\n",
    "dev_size = 0.1155\n",
    "X_train, Y_train, X_dev, Y_dev = train_dev_split(X_train, Y_train, dev_size = dev_size)\n",
    "\n",
    "# Use 0 + 0*x1 + 0*x2 + ... for weight initialization\n",
    "w = np.zeros((X_train.shape[1],)) \n",
    "b = np.zeros((1,))\n",
    "\n",
    "regularize = True\n",
    "if regularize:\n",
    "    lamda = 0.001\n",
    "else:\n",
    "    lamda = 0\n",
    "\n",
    "max_iter = 40  # max iteration number\n",
    "batch_size = 32 # number to feed in the model for average to avoid bias\n",
    "learning_rate = 0.2  # how much the model learn for each step\n",
    "num_train = len(Y_train)\n",
    "num_dev = len(Y_dev)\n",
    "step =1\n",
    "\n",
    "loss_train = []\n",
    "loss_validation = []\n",
    "train_acc = []\n",
    "dev_acc = []\n",
    "\n",
    "for epoch in range(max_iter):\n",
    "    # Random shuffle for each epoch\n",
    "    X_train, Y_train = _shuffle(X_train, Y_train)\n",
    "\n",
    "    total_loss = 0.0\n",
    "    # Logistic regression train with batch\n",
    "    for idx in range(int(np.floor(len(Y_train)/batch_size))):\n",
    "        X = X_train[idx*batch_size:(idx+1)*batch_size]\n",
    "        Y = Y_train[idx*batch_size:(idx+1)*batch_size]\n",
    "\n",
    "        # Find out the gradient of the loss\n",
    "        w_grad, b_grad = _gradient_regularization(X, Y, w, b, lamda)\n",
    "\n",
    "        # gradient descent update\n",
    "        # learning rate decay with time\n",
    "        w = w - learning_rate/np.sqrt(step) * w_grad\n",
    "        b = b - learning_rate/np.sqrt(step) * b_grad\n",
    "\n",
    "        step = step+1\n",
    "\n",
    "    # Compute the loss and the accuracy of the training set and the validation set\n",
    "    y_train_pred = get_prob(X_train, w, b)\n",
    "    Y_train_pred = np.round(y_train_pred)\n",
    "    train_acc.append(accuracy(Y_train_pred, Y_train))\n",
    "    loss_train.append(_loss(y_train_pred, Y_train, lamda, w)/num_train)\n",
    "\n",
    "    y_dev_pred = get_prob(X_dev, w, b)\n",
    "    Y_dev_pred = np.round(y_dev_pred)\n",
    "    dev_acc.append(accuracy(Y_dev_pred, Y_dev))\n",
    "    loss_validation.append(_loss(y_dev_pred, Y_dev, lamda, w)/num_dev)"
   ]
  },
  {
   "cell_type": "code",
   "execution_count": 82,
   "metadata": {},
   "outputs": [
    {
     "data": {
      "text/plain": [
       "0.34508480790624024"
      ]
     },
     "execution_count": 82,
     "metadata": {},
     "output_type": "execute_result"
    }
   ],
   "source": [
    "_loss(y_train_pred, Y_train, lamda, w)/num_train"
   ]
  },
  {
   "cell_type": "code",
   "execution_count": 52,
   "metadata": {},
   "outputs": [],
   "source": [
    "import matplotlib.pyplot as plt\n",
    "%matplotlib inline"
   ]
  },
  {
   "cell_type": "code",
   "execution_count": 75,
   "metadata": {},
   "outputs": [],
   "source": [
    "# return loss is to plot the result\n",
    "w, b, loss_train, loss_validation, train_acc, dev_acc= train(X_train, Y_train)"
   ]
  },
  {
   "cell_type": "code",
   "execution_count": 76,
   "metadata": {},
   "outputs": [
    {
     "data": {
      "image/png": "[encoded data removed]",
      "text/plain": [
       "<Figure size 432x288 with 1 Axes>"
      ]
     },
     "metadata": {
      "needs_background": "light"
     },
     "output_type": "display_data"
    }
   ],
   "source": [
    "plt.plot(loss_train)\n",
    "plt.plot(loss_validation)\n",
    "plt.legend(['train', 'dev'])\n",
    "plt.show()"
   ]
  },
  {
   "cell_type": "code",
   "execution_count": 74,
   "metadata": {},
   "outputs": [
    {
     "data": {
      "image/png": "[encoded data removed]",
      "text/plain": [
       "<Figure size 432x288 with 1 Axes>"
      ]
     },
     "metadata": {
      "needs_background": "light"
     },
     "output_type": "display_data"
    }
   ],
   "source": [
    "plt.plot(train_acc)\n",
    "plt.plot(dev_acc)\n",
    "plt.legend(['train', 'dev'])\n",
    "plt.show()\n"
   ]
  },
  {
   "cell_type": "code",
   "execution_count": null,
   "metadata": {},
   "outputs": [],
   "source": []
  }
 ],
 "metadata": {
  "kernelspec": {
   "display_name": "Python 3",
   "language": "python",
   "name": "python3"
  },
  "language_info": {
   "codemirror_mode": {
    "name": "ipython",
    "version": 3
   },
   "file_extension": ".py",
   "mimetype": "text/x-python",
   "name": "python",
   "nbconvert_exporter": "python",
   "pygments_lexer": "ipython3",
   "version": "3.6.8"
  }
 },
 "nbformat": 4,
 "nbformat_minor": 2
}

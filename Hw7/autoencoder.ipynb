{
  "cells": [
    {
      "cell_type": "code",
      "source": [
        "# import\n",
        "from tensorflow.keras import layers\n",
        "from tensorflow import keras\n",
        "from tensorflow.keras.utils import plot_model\n",
        "from tensorflow.keras.layers import Dense, Dropout, Activation, Flatten, Conv2D, MaxPooling2D, UpSampling2D, Input, Conv2DTranspose\n",
        "from tensorflow.keras.models import Model\n",
        "from sklearn.manifold import TSNE\n",
        "from sklearn.decomposition import PCA\n",
        "from sklearn.cluster import KMeans\n",
        "from PIL import Image\n",
        "import pandas as pd\n",
        "import numpy as np\n",
        "import os\n"
      ],
      "outputs": [],
      "execution_count": null,
      "metadata": {
        "collapsed": false,
        "outputHidden": false,
        "inputHidden": false
      }
    },
    {
      "cell_type": "code",
      "source": [
        "# load Data\n",
        "file_PATH = 'images'\n",
        "def load_data(file_PATH):\n",
        "    file_list = []\n",
        "    file_list = os.listdir(file_PATH)\n",
        "    data = []\n",
        "    for file in file_list:\n",
        "        tmp = Image.open(os.path.join(file_PATH, file))\n",
        "        data.append(np.array(tmp))\n",
        "    data = np.array(data)\n",
        "    data_shape = data.shape\n",
        "    print(data.shape)\n",
        "    return data, data_shape\n",
        "\n",
        "\n",
        "data, data_shape = load_data(file_PATH)\n",
        "nor_data = data / 255\n",
        "data_shape[1:]\n"
      ],
      "outputs": [],
      "execution_count": null,
      "metadata": {
        "collapsed": false,
        "outputHidden": false,
        "inputHidden": false
      }
    },
    {
      "cell_type": "code",
      "source": [
        "# build model\n",
        "input = Input(data_shape[1:])\n",
        "\n",
        "# encoding\n",
        "x = Conv2D(32, (3, 3), padding='same', activation='relu')(input)  # 32,32,32\n",
        "x = MaxPooling2D(2, 2, padding='same')(x)  # 16,16,32\n",
        "x = Conv2D(8, (3, 3), padding='same', activation='relu')(x)  # 16,16,8\n",
        "x = MaxPooling2D(2, 2, padding='same')(x)  # 8,8,8\n",
        "x = Conv2D(1, (3, 3), padding='same', activation='relu')(x)\n",
        "encoded = MaxPooling2D(2, 2, padding='same')(x)  # 8,8,8\n",
        "\n",
        "# decodeing\n",
        "x = Conv2DTranspose(1, (3, 3), padding='same', activation='relu')(encoded)\n",
        "x = UpSampling2D((2, 2))(x)\n",
        "x = Conv2DTranspose(8, (3, 3), padding='same', activation='relu')(x)\n",
        "x = UpSampling2D((2, 2))(x)\n",
        "x = Conv2DTranspose(32, (3, 3), padding='same', activation='relu')(x)\n",
        "x = UpSampling2D((2, 2))(x)\n",
        "decoded = Conv2DTranspose(3, (3, 3), padding='same', activation='relu')(x)\n"
      ],
      "outputs": [],
      "execution_count": null,
      "metadata": {
        "collapsed": false,
        "outputHidden": false,
        "inputHidden": false
      }
    },
    {
      "cell_type": "code",
      "source": [
        "# model compile\n",
        "autoencoder = Model(input, decoded)\n",
        "plot_model(autoencoder, show_shapes=True)\n",
        "autoencoder.compile(optimizer='Adam', loss='mse')\n",
        "callback = keras.callbacks.EarlyStopping(monitor='loss', patience=5, verbose=1, mode='auto')\n",
        "autoencoder.fit(nor_data, nor_data, batch_size=100, epochs=1000, callbacks=[callback])"
      ],
      "outputs": [],
      "execution_count": null,
      "metadata": {
        "collapsed": false,
        "outputHidden": false,
        "inputHidden": false
      }
    }
  ],
  "metadata": {
    "kernelspec": {
      "argv": [
        "/Users/ryan/anaconda3/bin/python",
        "-m",
        "ipykernel_launcher",
        "-f",
        "{connection_file}"
      ],
      "display_name": "Python 3",
      "language": "python",
      "name": "python3"
    }
  },
  "nbformat": 4,
  "nbformat_minor": 0
}